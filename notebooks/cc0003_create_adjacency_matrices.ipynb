{
 "cells": [
  {
   "cell_type": "code",
   "execution_count": 1,
   "id": "moral-conviction",
   "metadata": {},
   "outputs": [],
   "source": [
    "import math\n",
    "import numpy as np\n",
    "import pandas as pd\n",
    "from tqdm import tqdm\n",
    "\n",
    "import warnings\n",
    "warnings.filterwarnings('ignore')"
   ]
  },
  {
   "cell_type": "code",
   "execution_count": 2,
   "id": "subjective-ethernet",
   "metadata": {},
   "outputs": [],
   "source": [
    "DATA_DIR = '../data'\n",
    "CITIBIKE_CSV_DIR = f'{DATA_DIR}/citibike/csv'\n",
    "EXPORTS_DIR = f'{DATA_DIR}/citibike/exports'"
   ]
  },
  {
   "cell_type": "code",
   "execution_count": 3,
   "id": "positive-conducting",
   "metadata": {},
   "outputs": [],
   "source": [
    "DATE_PREFIXES = np.load(f'{DATA_DIR}/citibike/date_prefixes.npy')"
   ]
  },
  {
   "cell_type": "code",
   "execution_count": 4,
   "id": "changing-chocolate",
   "metadata": {},
   "outputs": [
    {
     "data": {
      "text/plain": [
       "3167"
      ]
     },
     "execution_count": 4,
     "metadata": {},
     "output_type": "execute_result"
    }
   ],
   "source": [
    "stations_df = pd.read_csv(f'{EXPORTS_DIR}/station_coords.csv')\n",
    "station_ids = stations_df['id'].unique()\n",
    "len(station_ids)"
   ]
  },
  {
   "cell_type": "code",
   "execution_count": 5,
   "id": "changing-portfolio",
   "metadata": {},
   "outputs": [],
   "source": [
    "def hash_station_id(station_id):\n",
    "    try:\n",
    "        float_id = float(station_id)\n",
    "        int_id = int(float(station_id))\n",
    "        if int_id == float_id:\n",
    "            return str(int_id)\n",
    "        else:\n",
    "            return str(float_id)\n",
    "    except:\n",
    "        return str(station_id)"
   ]
  },
  {
   "cell_type": "code",
   "execution_count": 14,
   "id": "contained-hughes",
   "metadata": {},
   "outputs": [
    {
     "name": "stderr",
     "output_type": "stream",
     "text": [
      "100%|██████████| 97/97 [11:26<00:00,  7.08s/it]\n"
     ]
    }
   ],
   "source": [
    "XLSX_PREFIXES = DATE_PREFIXES[27:51]\n",
    "\n",
    "for date_prefix in tqdm(DATE_PREFIXES):\n",
    "    df = pd.read_csv(f'{CITIBIKE_CSV_DIR}/{date_prefix}-citibike-tripdata.csv')\n",
    "    df = df.rename(\n",
    "        columns={\n",
    "            'start station id': 'start_station_id',\n",
    "            'start station latitude': 'start_lat',\n",
    "            'start station longitude': 'start_lon',\n",
    "            'end station id': 'end_station_id',\n",
    "            'end station latitude': 'end_lat',\n",
    "            'end station longitude': 'end_lon',\n",
    "            'Start Station ID': 'start_station_id',\n",
    "            'Start Station Latitude': 'start_lat',\n",
    "            'Start Station Longitude': 'start_lon',\n",
    "            'End Station ID': 'end_station_id',\n",
    "            'End Station Latitude': 'end_lat',\n",
    "            'End Station Longitude': 'end_lon',\n",
    "            'start_lng': 'start_lon',\n",
    "            'end_lng': 'end_lon',\n",
    "        })\n",
    "\n",
    "    # Standarize station ID.\n",
    "    df['start_station_id'] = df['start_station_id'].apply(\n",
    "        lambda row: hash_station_id(row))\n",
    "    df['end_station_id'] = df['end_station_id'].apply(\n",
    "        lambda row: hash_station_id(row))\n",
    "    df = df.sort_values(by=['start_station_id', 'end_station_id'])\n",
    "\n",
    "    # Group trips by origin and destination. Aggregate trip count.\n",
    "    count_df = df[['start_station_id', 'end_station_id']].reset_index()\n",
    "    count_df = count_df.groupby(\n",
    "        by=['start_station_id', 'end_station_id']).count().reset_index()\n",
    "    count_df = count_df.rename(columns={'index': 'count'})\n",
    "\n",
    "    # Convert to adjacency matrix. Origins are rows, destinations are columns.\n",
    "    adj_matrix = pd.crosstab(count_df['start_station_id'],\n",
    "                             count_df['end_station_id'],\n",
    "                             count_df['count'],\n",
    "                             aggfunc=np.sum,\n",
    "                             dropna=False)\n",
    "    adj_matrix = adj_matrix.fillna(0)\n",
    "    adj_matrix[adj_matrix.columns] = adj_matrix[adj_matrix.columns].astype(int)\n",
    "\n",
    "    # Remove extra index information.\n",
    "    ids = adj_matrix.columns.union(adj_matrix.index).sort_values()\n",
    "    adj_matrix = adj_matrix.reindex(index=ids, columns=ids, fill_value=0)\n",
    "\n",
    "    adj_matrix.to_csv(f'{EXPORTS_DIR}/adjacency_matrices/csv/' +\n",
    "                      f'{date_prefix}_trip_count.csv')\n",
    "\n",
    "    if date_prefix in set(XLSX_PREFIXES):\n",
    "        adj_matrix.to_excel(f'{EXPORTS_DIR}/adjacency_matrices/xlsx/' +\n",
    "                          f'{date_prefix}_trip_count.xlsx')"
   ]
  },
  {
   "cell_type": "code",
   "execution_count": null,
   "id": "persistent-extension",
   "metadata": {},
   "outputs": [],
   "source": []
  }
 ],
 "metadata": {
  "kernelspec": {
   "display_name": "Python 3",
   "language": "python",
   "name": "python3"
  },
  "language_info": {
   "codemirror_mode": {
    "name": "ipython",
    "version": 3
   },
   "file_extension": ".py",
   "mimetype": "text/x-python",
   "name": "python",
   "nbconvert_exporter": "python",
   "pygments_lexer": "ipython3",
   "version": "3.7.6"
  }
 },
 "nbformat": 4,
 "nbformat_minor": 5
}
