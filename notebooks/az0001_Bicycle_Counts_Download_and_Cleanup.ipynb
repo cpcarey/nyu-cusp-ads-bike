{
 "cells": [
  {
   "cell_type": "markdown",
   "id": "908d2921",
   "metadata": {},
   "source": [
    "# Download Bicycle Counter Data\n",
    "# Clean up data and merged with Bicycle Counter file\n",
    "# Breaks down the one large file into separate files by year"
   ]
  },
  {
   "cell_type": "code",
   "execution_count": null,
   "id": "d2d6a0f1",
   "metadata": {},
   "outputs": [],
   "source": [
    "import numpy as np\n",
    "import pandas as pd\n",
    "import dask.dataframe as dd\n",
    "import warnings\n",
    "from datetime import datetime\n",
    "warnings.filterwarnings('ignore')"
   ]
  },
  {
   "cell_type": "code",
   "execution_count": 132,
   "id": "19f3bab1-1faf-4302-b88e-6c0cd49eeb08",
   "metadata": {},
   "outputs": [],
   "source": [
    "df = dd.read_csv('Bicycle_Counts.csv',assume_missing=True,dtype={'counts': 'string'})\n",
    "df2 = dd.read_csv('Bicycle_Counters.csv')\n",
    "df2 = df2.drop(['id','domain','timezone','interval','counter'], axis = 1)\n",
    "df = df.drop('id', axis = 1)\n",
    "df['counts'] = df['counts'].str.replace(',','.').astype(float)\n",
    "df['counts'] = df['counts'].astype(float)\n",
    "df['date'] = dd.to_datetime(df['date'])\n",
    "df['year'] = df['date'].dt.year\n",
    "df['day'] = df['date'].dt.day\n",
    "df['month'] = df['date'].dt.month\n",
    "df = df.merge(df2, how='left', left_on='site', right_on='site')"
   ]
  },
  {
   "cell_type": "code",
   "execution_count": 133,
   "id": "8ab29ba0-a4fb-4a2e-b8a6-5a41c99fe3af",
   "metadata": {
    "scrolled": true
   },
   "outputs": [
    {
     "data": {
      "text/html": [
       "<div><strong>Dask DataFrame Structure:</strong></div>\n",
       "<div>\n",
       "<style scoped>\n",
       "    .dataframe tbody tr th:only-of-type {\n",
       "        vertical-align: middle;\n",
       "    }\n",
       "\n",
       "    .dataframe tbody tr th {\n",
       "        vertical-align: top;\n",
       "    }\n",
       "\n",
       "    .dataframe thead th {\n",
       "        text-align: right;\n",
       "    }\n",
       "</style>\n",
       "<table border=\"1\" class=\"dataframe\">\n",
       "  <thead>\n",
       "    <tr style=\"text-align: right;\">\n",
       "      <th></th>\n",
       "      <th>counts</th>\n",
       "      <th>date</th>\n",
       "      <th>status</th>\n",
       "      <th>site</th>\n",
       "      <th>year</th>\n",
       "      <th>day</th>\n",
       "      <th>month</th>\n",
       "      <th>name</th>\n",
       "      <th>latitude</th>\n",
       "      <th>longitude</th>\n",
       "    </tr>\n",
       "    <tr>\n",
       "      <th>npartitions=3</th>\n",
       "      <th></th>\n",
       "      <th></th>\n",
       "      <th></th>\n",
       "      <th></th>\n",
       "      <th></th>\n",
       "      <th></th>\n",
       "      <th></th>\n",
       "      <th></th>\n",
       "      <th></th>\n",
       "      <th></th>\n",
       "    </tr>\n",
       "  </thead>\n",
       "  <tbody>\n",
       "    <tr>\n",
       "      <th></th>\n",
       "      <td>float64</td>\n",
       "      <td>datetime64[ns]</td>\n",
       "      <td>float64</td>\n",
       "      <td>float64</td>\n",
       "      <td>int64</td>\n",
       "      <td>int64</td>\n",
       "      <td>int64</td>\n",
       "      <td>object</td>\n",
       "      <td>float64</td>\n",
       "      <td>float64</td>\n",
       "    </tr>\n",
       "    <tr>\n",
       "      <th></th>\n",
       "      <td>...</td>\n",
       "      <td>...</td>\n",
       "      <td>...</td>\n",
       "      <td>...</td>\n",
       "      <td>...</td>\n",
       "      <td>...</td>\n",
       "      <td>...</td>\n",
       "      <td>...</td>\n",
       "      <td>...</td>\n",
       "      <td>...</td>\n",
       "    </tr>\n",
       "    <tr>\n",
       "      <th></th>\n",
       "      <td>...</td>\n",
       "      <td>...</td>\n",
       "      <td>...</td>\n",
       "      <td>...</td>\n",
       "      <td>...</td>\n",
       "      <td>...</td>\n",
       "      <td>...</td>\n",
       "      <td>...</td>\n",
       "      <td>...</td>\n",
       "      <td>...</td>\n",
       "    </tr>\n",
       "    <tr>\n",
       "      <th></th>\n",
       "      <td>...</td>\n",
       "      <td>...</td>\n",
       "      <td>...</td>\n",
       "      <td>...</td>\n",
       "      <td>...</td>\n",
       "      <td>...</td>\n",
       "      <td>...</td>\n",
       "      <td>...</td>\n",
       "      <td>...</td>\n",
       "      <td>...</td>\n",
       "    </tr>\n",
       "  </tbody>\n",
       "</table>\n",
       "</div>\n",
       "<div>Dask Name: merge, 68 tasks</div>"
      ],
      "text/plain": [
       "Dask DataFrame Structure:\n",
       "                counts            date   status     site   year    day  month    name latitude longitude\n",
       "npartitions=3                                                                                           \n",
       "               float64  datetime64[ns]  float64  float64  int64  int64  int64  object  float64   float64\n",
       "                   ...             ...      ...      ...    ...    ...    ...     ...      ...       ...\n",
       "                   ...             ...      ...      ...    ...    ...    ...     ...      ...       ...\n",
       "                   ...             ...      ...      ...    ...    ...    ...     ...      ...       ...\n",
       "Dask Name: merge, 68 tasks"
      ]
     },
     "execution_count": 133,
     "metadata": {},
     "output_type": "execute_result"
    }
   ],
   "source": [
    "#df2.compute(scheduler='processes').to_csv(\"my_one_file.csv\", index=False)\n",
    "df.compute(scheduler='processes')\n"
   ]
  },
  {
   "cell_type": "code",
   "execution_count": 135,
   "id": "f1c20196-48be-4133-a1c5-2ec444737ac8",
   "metadata": {},
   "outputs": [],
   "source": [
    "df2013 = df[df['year'] == 2013]\n",
    "df2014 = df[df['year'] == 2014]\n",
    "df2015 = df[df['year'] == 2015]\n",
    "df2016 = df[df['year'] == 2016]\n",
    "df2017 = df[df['year'] == 2017]\n",
    "df2018 = df[df['year'] == 2018]\n",
    "df2019 = df[df['year'] == 2019]\n",
    "df2020 = df[df['year'] == 2020]\n",
    "df2021 = df[df['year'] == 2021]"
   ]
  },
  {
   "cell_type": "code",
   "execution_count": 136,
   "id": "e3da1c2a",
   "metadata": {},
   "outputs": [],
   "source": [
    "df2013.compute(scheduler='processes').to_csv(\"Data/2013Data.csv\", index=False)\n",
    "df2014.compute(scheduler='processes').to_csv(\"Data/2014Data.csv\", index=False)\n",
    "df2015.compute(scheduler='processes').to_csv(\"Data/2015Data.csv\", index=False)\n",
    "df2016.compute(scheduler='processes').to_csv(\"Data/2016Data.csv\", index=False)\n",
    "df2017.compute(scheduler='processes').to_csv(\"Data/2017Data.csv\", index=False)\n",
    "df2018.compute(scheduler='processes').to_csv(\"Data/2018Data.csv\", index=False)\n",
    "df2019.compute(scheduler='processes').to_csv(\"Data/2019Data.csv\", index=False)\n",
    "df2020.compute(scheduler='processes').to_csv(\"Data/2020Data.csv\", index=False)\n",
    "df2021.compute(scheduler='processes').to_csv(\"Data/2021Data.csv\", index=False)"
   ]
  },
  {
   "cell_type": "code",
   "execution_count": null,
   "id": "cf8c0eac",
   "metadata": {},
   "outputs": [],
   "source": []
  }
 ],
 "metadata": {
  "kernelspec": {
   "display_name": "Python 3",
   "language": "python",
   "name": "python3"
  },
  "language_info": {
   "codemirror_mode": {
    "name": "ipython",
    "version": 3
   },
   "file_extension": ".py",
   "mimetype": "text/x-python",
   "name": "python",
   "nbconvert_exporter": "python",
   "pygments_lexer": "ipython3",
   "version": "3.8.8"
  }
 },
 "nbformat": 4,
 "nbformat_minor": 5
}
