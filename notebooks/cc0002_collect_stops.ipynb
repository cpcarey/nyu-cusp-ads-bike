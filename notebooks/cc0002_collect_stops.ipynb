{
 "cells": [
  {
   "cell_type": "markdown",
   "id": "herbal-knight",
   "metadata": {},
   "source": [
    "# Collect Stops\n",
    "\n",
    "#### Primary Author\n",
    "Chris Carey\n",
    "\n",
    "#### Description:\n",
    "This notebook collects all Citi Bike station locations along with reported dates.\n",
    "\n",
    "#### Inputs:\n",
    "```\n",
    "data/citibike/date_prefixes.npy\n",
    "```\n",
    " \n",
    "#### Outputs:\n",
    "```\n",
    "data/citibike/csv/exports/station_coords.csv\n",
    "```"
   ]
  },
  {
   "cell_type": "code",
   "execution_count": 53,
   "id": "falling-reply",
   "metadata": {},
   "outputs": [],
   "source": [
    "import math\n",
    "import numpy as np\n",
    "import pandas as pd\n",
    "from tqdm import tqdm\n",
    "\n",
    "import warnings\n",
    "warnings.filterwarnings('ignore')"
   ]
  },
  {
   "cell_type": "code",
   "execution_count": 88,
   "id": "modified-hello",
   "metadata": {},
   "outputs": [],
   "source": [
    "DATA_DIR = '../data'\n",
    "CITIBIKE_CSV_DIR = f'{DATA_DIR}/citibike/csv'\n",
    "EXPORTS_DIR = f'{DATA_DIR}/citibike/exports'"
   ]
  },
  {
   "cell_type": "code",
   "execution_count": 6,
   "id": "hispanic-stanford",
   "metadata": {},
   "outputs": [],
   "source": [
    "DATE_PREFIXES = np.load(f'{DATA_DIR}/citibike/date_prefixes.npy')"
   ]
  },
  {
   "cell_type": "code",
   "execution_count": 81,
   "id": "applied-bones",
   "metadata": {},
   "outputs": [],
   "source": [
    "def is_integer_num(n):\n",
    "    if isinstance(n, int):\n",
    "        return True\n",
    "    if isinstance(n, float):\n",
    "        return n.is_integer()\n",
    "    return False\n",
    "\n",
    "def hash_station_id(station_id):\n",
    "    if is_integer_num(station_id):\n",
    "        station_id = int(station_id)\n",
    "    return str(station_id)"
   ]
  },
  {
   "cell_type": "code",
   "execution_count": 82,
   "id": "british-moses",
   "metadata": {},
   "outputs": [],
   "source": [
    "station_dict = {}\n",
    "def add_row_to_station_dict(row):\n",
    "    (station_id, lat, lon) = tuple(row[1])\n",
    "    station_id = hash_station_id(station_id)\n",
    "    if station_id not in station_dict:\n",
    "        station_dict[station_id] = {}\n",
    "    if (lat, lon) not in station_dict[station_id]:\n",
    "        station_dict[station_id][(lat, lon)] = date_prefix"
   ]
  },
  {
   "cell_type": "code",
   "execution_count": 83,
   "id": "falling-scanning",
   "metadata": {},
   "outputs": [
    {
     "name": "stderr",
     "output_type": "stream",
     "text": [
      "100%|██████████| 97/97 [04:27<00:00,  2.76s/it]\n"
     ]
    }
   ],
   "source": [
    "for date_prefix in tqdm(DATE_PREFIXES):\n",
    "    df = pd.read_csv(f'{CITIBIKE_CSV_DIR}/{date_prefix}-citibike-tripdata.csv')\n",
    "    df = df.rename(columns={\n",
    "        'start station id': 'start_station_id',\n",
    "        'start station latitude': 'start_lat',\n",
    "        'start station longitude': 'start_lon',\n",
    "        'end station id': 'end_station_id',\n",
    "        'end station latitude': 'end_lat',\n",
    "        'end station longitude': 'end_lon',\n",
    "        'Start Station ID': 'start_station_id',\n",
    "        'Start Station Latitude': 'start_lat',\n",
    "        'Start Station Longitude': 'start_lon',\n",
    "        'End Station ID': 'end_station_id',\n",
    "        'End Station Latitude': 'end_lat',\n",
    "        'End Station Longitude': 'end_lon',\n",
    "        'start_lng': 'start_lon',\n",
    "        'end_lng': 'end_lon',\n",
    "    })\n",
    "    \n",
    "    start_df = df[['start_station_id', 'start_lat', 'start_lon']].drop_duplicates()\n",
    "    end_df = df[['end_station_id', 'end_lat', 'end_lon']].drop_duplicates()\n",
    "\n",
    "    for row in start_df.iterrows():\n",
    "        add_row_to_station_dict(row)\n",
    "    for row in end_df.iterrows():\n",
    "        add_row_to_station_dict(row)"
   ]
  },
  {
   "cell_type": "code",
   "execution_count": 84,
   "id": "stylish-ceramic",
   "metadata": {},
   "outputs": [],
   "source": [
    "df_dict = {'id': [], 'date': [], 'lat': [], 'lon': []}\n",
    "for station_id, pos_dict in station_dict.items():\n",
    "    for pos, date in pos_dict.items():\n",
    "        df_dict['id'].append(station_id)\n",
    "        df_dict['lat'].append(pos[0])\n",
    "        df_dict['lon'].append(pos[1])\n",
    "        df_dict['date'].append(date)"
   ]
  },
  {
   "cell_type": "code",
   "execution_count": 86,
   "id": "spiritual-display",
   "metadata": {},
   "outputs": [
    {
     "data": {
      "text/html": [
       "<div>\n",
       "<style scoped>\n",
       "    .dataframe tbody tr th:only-of-type {\n",
       "        vertical-align: middle;\n",
       "    }\n",
       "\n",
       "    .dataframe tbody tr th {\n",
       "        vertical-align: top;\n",
       "    }\n",
       "\n",
       "    .dataframe thead th {\n",
       "        text-align: right;\n",
       "    }\n",
       "</style>\n",
       "<table border=\"1\" class=\"dataframe\">\n",
       "  <thead>\n",
       "    <tr style=\"text-align: right;\">\n",
       "      <th></th>\n",
       "      <th>id</th>\n",
       "      <th>date</th>\n",
       "      <th>lat</th>\n",
       "      <th>lon</th>\n",
       "    </tr>\n",
       "  </thead>\n",
       "  <tbody>\n",
       "    <tr>\n",
       "      <th>0</th>\n",
       "      <td>116</td>\n",
       "      <td>201310</td>\n",
       "      <td>40.741776</td>\n",
       "      <td>-74.001497</td>\n",
       "    </tr>\n",
       "    <tr>\n",
       "      <th>1</th>\n",
       "      <td>116</td>\n",
       "      <td>202004</td>\n",
       "      <td>40.743000</td>\n",
       "      <td>-74.001000</td>\n",
       "    </tr>\n",
       "    <tr>\n",
       "      <th>2</th>\n",
       "      <td>119</td>\n",
       "      <td>201310</td>\n",
       "      <td>40.696089</td>\n",
       "      <td>-73.978034</td>\n",
       "    </tr>\n",
       "    <tr>\n",
       "      <th>3</th>\n",
       "      <td>120</td>\n",
       "      <td>201310</td>\n",
       "      <td>40.686768</td>\n",
       "      <td>-73.959282</td>\n",
       "    </tr>\n",
       "    <tr>\n",
       "      <th>4</th>\n",
       "      <td>127</td>\n",
       "      <td>201310</td>\n",
       "      <td>40.731724</td>\n",
       "      <td>-74.006744</td>\n",
       "    </tr>\n",
       "    <tr>\n",
       "      <th>...</th>\n",
       "      <td>...</td>\n",
       "      <td>...</td>\n",
       "      <td>...</td>\n",
       "      <td>...</td>\n",
       "    </tr>\n",
       "    <tr>\n",
       "      <th>4990</th>\n",
       "      <td>SYS033</td>\n",
       "      <td>202102</td>\n",
       "      <td>40.728487</td>\n",
       "      <td>-74.011693</td>\n",
       "    </tr>\n",
       "    <tr>\n",
       "      <th>4991</th>\n",
       "      <td>SYS035</td>\n",
       "      <td>202102</td>\n",
       "      <td>40.728660</td>\n",
       "      <td>-74.011980</td>\n",
       "    </tr>\n",
       "    <tr>\n",
       "      <th>4992</th>\n",
       "      <td>SYS035</td>\n",
       "      <td>202102</td>\n",
       "      <td>40.728660</td>\n",
       "      <td>-74.011980</td>\n",
       "    </tr>\n",
       "    <tr>\n",
       "      <th>4993</th>\n",
       "      <td>SYS037</td>\n",
       "      <td>202107</td>\n",
       "      <td>40.716878</td>\n",
       "      <td>-73.983755</td>\n",
       "    </tr>\n",
       "    <tr>\n",
       "      <th>4994</th>\n",
       "      <td>SYS038</td>\n",
       "      <td>202110</td>\n",
       "      <td>40.709306</td>\n",
       "      <td>-73.931175</td>\n",
       "    </tr>\n",
       "  </tbody>\n",
       "</table>\n",
       "<p>4995 rows × 4 columns</p>\n",
       "</div>"
      ],
      "text/plain": [
       "          id    date        lat        lon\n",
       "0        116  201310  40.741776 -74.001497\n",
       "1        116  202004  40.743000 -74.001000\n",
       "2        119  201310  40.696089 -73.978034\n",
       "3        120  201310  40.686768 -73.959282\n",
       "4        127  201310  40.731724 -74.006744\n",
       "...      ...     ...        ...        ...\n",
       "4990  SYS033  202102  40.728487 -74.011693\n",
       "4991  SYS035  202102  40.728660 -74.011980\n",
       "4992  SYS035  202102  40.728660 -74.011980\n",
       "4993  SYS037  202107  40.716878 -73.983755\n",
       "4994  SYS038  202110  40.709306 -73.931175\n",
       "\n",
       "[4995 rows x 4 columns]"
      ]
     },
     "execution_count": 86,
     "metadata": {},
     "output_type": "execute_result"
    }
   ],
   "source": [
    "station_df = pd.DataFrame(df_dict)\n",
    "station_df = station_df.sort_values(by=['id', 'date'])\n",
    "station_df = station_df[station_df['id'] != 'nan']\n",
    "station_df = station_df.dropna()\n",
    "station_df = station_df.reset_index(drop=True)\n",
    "station_df"
   ]
  },
  {
   "cell_type": "code",
   "execution_count": 91,
   "id": "systematic-ivory",
   "metadata": {},
   "outputs": [],
   "source": [
    "station_df.to_csv(f'{EXPORTS_DIR}/station_coords.csv', index=False)"
   ]
  },
  {
   "cell_type": "code",
   "execution_count": null,
   "id": "recent-poultry",
   "metadata": {},
   "outputs": [],
   "source": []
  }
 ],
 "metadata": {
  "kernelspec": {
   "display_name": "Python 3",
   "language": "python",
   "name": "python3"
  },
  "language_info": {
   "codemirror_mode": {
    "name": "ipython",
    "version": 3
   },
   "file_extension": ".py",
   "mimetype": "text/x-python",
   "name": "python",
   "nbconvert_exporter": "python",
   "pygments_lexer": "ipython3",
   "version": "3.7.6"
  }
 },
 "nbformat": 4,
 "nbformat_minor": 5
}
